{
 "cells": [
  {
   "cell_type": "code",
   "execution_count": 1,
   "id": "c6654a86",
   "metadata": {},
   "outputs": [],
   "source": [
    "from numpy import *\n",
    "import matplotlib.pyplot as plt\n",
    "import matplotlib.animation as animation\n",
    "from ipywidgets import interactive_output, FloatSlider, HBox, VBox, Layout\n",
    "from IPython.display import display"
   ]
  },
  {
   "cell_type": "code",
   "execution_count": 18,
   "id": "aea53f10",
   "metadata": {},
   "outputs": [
    {
     "data": {
      "application/vnd.jupyter.widget-view+json": {
       "model_id": "fb800c06ea6740e59bb4d59077bec37a",
       "version_major": 2,
       "version_minor": 0
      },
      "text/plain": [
       "HBox(children=(Output(), VBox(children=(FloatSlider(value=1.0, description='$r$', max=1.0), FloatSlider(value=…"
      ]
     },
     "metadata": {},
     "output_type": "display_data"
    }
   ],
   "source": [
    "def setup_axes():\n",
    "    ## Set up the figure axes, etc.\n",
    "    plt.xlim(-1.0, 1.0)\n",
    "    plt.ylim(-1.0, 1.0)\n",
    "    plt.legend(loc=\"upper left\")\n",
    "    \n",
    "    ## Place the figure spines at the origin\n",
    "    ax = plt.gca()\n",
    "    ax.spines['right'].set_color('none')\n",
    "    ax.spines['top'].set_color('none')\n",
    "    ax.xaxis.set_ticks_position('bottom')\n",
    "    ax.spines['bottom'].set_position(('data',0))\n",
    "    ax.yaxis.set_ticks_position('left')\n",
    "    ax.spines['left'].set_position(('data',0))\n",
    "\n",
    "    # Turn off tick labels\n",
    "    ax.set_yticklabels([])\n",
    "    ax.set_xticklabels([])\n",
    "        \n",
    "## Set up the figure and the objects to hold plot data\n",
    "fig = plt.figure(figsize=(8,8))\n",
    "    \n",
    "real_ellipse, = plt.plot([], [], color='k', linewidth=2, label=r\"Equation 4\")\n",
    "comp_ellipse, = plt.plot([], [], color='r', linestyle='dashed', linewidth=2, label=r\"Equation 20\")\n",
    "\n",
    "hw, hl = 0.06, 0.10\n",
    "real_arrow = plt.arrow([],[],[],[], head_width=hw, head_length=hl, fc='black', ec='black')\n",
    "comp_arrow = plt.arrow([],[],[],[], head_width=hw, head_length=hl, fc='red', ec='red')\n",
    "\n",
    "setup_axes()\n",
    "    \n",
    "plt.close()\n",
    "\n",
    "# initialise some arrays used by plot_ellipse_compare\n",
    "N = 61\n",
    "phi = linspace(0, 2*math.pi, N)\n",
    "cosph = cos(phi)\n",
    "sinph = sin(phi)\n",
    "j = complex(0,1)\n",
    "expph = exp(j*phi)\n",
    "\n",
    "## Callback plots Equations 4 and 20\n",
    "def plot_ellipse_compare(r_val,chi_deg,psi_deg):\n",
    "        \n",
    "    r = r_val\n",
    "    chi = chi_deg*math.pi/180.0\n",
    "    psi = psi_deg*math.pi/180.0\n",
    "        \n",
    "    ## Equation 4\n",
    "    xprime = r*cos(chi)*sinph\n",
    "    yprime = r*sin(chi)*cosph\n",
    "        \n",
    "    ## Inverse of Equations 2 and 3\n",
    "    x = xprime*cos(psi) - yprime*sin(psi)\n",
    "    y = xprime*sin(psi) + yprime*cos(psi)\n",
    "        \n",
    "    real_ellipse.set_data(x, y)\n",
    "\n",
    "    # draw real arrow at zero phase\n",
    "    q=N-1\n",
    "    real_arrow.set_data(x=x[q], y=y[q], dx=x[0]-x[q], dy=y[0]-y[q])\n",
    "\n",
    "    ## Equation 20\n",
    "    e_x = -j * r * complex( cos(psi)*cos(chi), -sin(psi)*sin(chi) ) * expph\n",
    "    e_y = -j * r * complex( sin(psi)*cos(chi),  cos(psi)*sin(chi) ) * expph\n",
    "\n",
    "    x = real(e_x)\n",
    "    y = real(e_y)\n",
    "        \n",
    "    comp_ellipse.set_data(x, y)\n",
    "    # draw complex arrow at 180 deg phase\n",
    "    q=N//2-1\n",
    "    comp_arrow.set_data(x=x[q], y=y[q], \n",
    "                            dx=x[q+1]-x[q], dy=y[q+1]-y[q])\n",
    "\n",
    "    display(fig)\n",
    "\n",
    "## Create slider bars\n",
    "r_val   = FloatSlider(min=0, max=1.0, step=0.1, value=1.0, description=\"$r$\")\n",
    "chi_deg = FloatSlider(min=-45, max=45, step=9, value=25.0, description=\"$\\chi$ (deg)\")\n",
    "psi_deg = FloatSlider(min=-90, max=90, step=9, value=45.0, description=\"$\\psi$ (deg)\")\n",
    "\n",
    "## Attach slider bars to plot_ellipse_compare\n",
    "w = interactive_output(plot_ellipse_compare,{'r_val':r_val, 'chi_deg':chi_deg, 'psi_deg':psi_deg})\n",
    "\n",
    "# Vertical layout of sliders\n",
    "box_layout = Layout(display='flex',\n",
    "                    flex_flow='column',\n",
    "                    align_items='center',\n",
    "                    justify_content='center',\n",
    "                    border='none',\n",
    "                    width='50%')\n",
    "    \n",
    "ui = VBox([r_val, chi_deg, psi_deg], layout=box_layout)\n",
    "    \n",
    "# Horizontal Layout puts sliders beside plot\n",
    "display(HBox([w,ui]))\n"
   ]
  },
  {
   "cell_type": "code",
   "execution_count": null,
   "id": "4dc19a54",
   "metadata": {},
   "outputs": [],
   "source": []
  }
 ],
 "metadata": {
  "kernelspec": {
   "display_name": "Python 3 (ipykernel)",
   "language": "python",
   "name": "python3"
  },
  "language_info": {
   "codemirror_mode": {
    "name": "ipython",
    "version": 3
   },
   "file_extension": ".py",
   "mimetype": "text/x-python",
   "name": "python",
   "nbconvert_exporter": "python",
   "pygments_lexer": "ipython3",
   "version": "3.9.13"
  }
 },
 "nbformat": 4,
 "nbformat_minor": 5
}
